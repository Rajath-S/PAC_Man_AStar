{
  "nbformat": 4,
  "nbformat_minor": 0,
  "metadata": {
    "colab": {
      "name": " New_AI_PAC-MAN.ipynb",
      "provenance": [],
      "collapsed_sections": [],
      "include_colab_link": true
    },
    "kernelspec": {
      "name": "python3",
      "display_name": "Python 3"
    }
  },
  "cells": [
    {
      "cell_type": "markdown",
      "metadata": {
        "id": "view-in-github",
        "colab_type": "text"
      },
      "source": [
        "<a href=\"https://colab.research.google.com/github/Rajath-S/PAC_Man_AStar/blob/master/New_AI_PAC_MAN.ipynb\" target=\"_parent\"><img src=\"https://colab.research.google.com/assets/colab-badge.svg\" alt=\"Open In Colab\"/></a>"
      ]
    },
    {
      "cell_type": "markdown",
      "metadata": {
        "id": "Sl77-Bo1FT7w",
        "colab_type": "text"
      },
      "source": [
        "# **AI Pac-Man Using A Star**\n",
        "\n"
      ]
    },
    {
      "cell_type": "markdown",
      "metadata": {
        "id": "7drFmwW00pRu",
        "colab_type": "text"
      },
      "source": [
        ""
      ]
    },
    {
      "cell_type": "markdown",
      "metadata": {
        "id": "uc0ExeoIFuAM",
        "colab_type": "text"
      },
      "source": [
        "Note: In this method we will be using manhattan distance as the heuristic.\n",
        "So the potential for a node to be expanded depends on the previous cost plus the heuristic distance towards the goal state"
      ]
    },
    {
      "cell_type": "markdown",
      "metadata": {
        "id": "4BaEFIWXGFXP",
        "colab_type": "text"
      },
      "source": [
        "# Lets get started by taking input\n",
        "Sample input we give:  \n",
        "\n",
        "\n",
        "\n",
        "Pacman initial start state: 35 35  \n",
        "Pacman goal state(where food is present) :35 1  \n",
        "Grid size: 37 37"
      ]
    },
    {
      "cell_type": "code",
      "metadata": {
        "id": "t_Ln1dP8FrIQ",
        "colab_type": "code",
        "outputId": "91f7f7e8-e761-485b-e971-48efba685e54",
        "colab": {
          "base_uri": "https://localhost:8080/",
          "height": 67
        }
      },
      "source": [
        "x_coordinates,y_coordinates = list(map(int, input().split()))\n",
        "food_x, food_y = list(map(int, input().split())) #initial postition of pacman\n",
        "n, m = list(map(int, input().split())) #goal state\n"
      ],
      "execution_count": 35,
      "outputs": [
        {
          "output_type": "stream",
          "text": [
            "35 35\n",
            "35 1\n",
            "37 37\n"
          ],
          "name": "stdout"
        }
      ]
    },
    {
      "cell_type": "markdown",
      "metadata": {
        "id": "m7xS1L__HI3C",
        "colab_type": "text"
      },
      "source": [
        "# Time to provide the matrix  \n",
        "Matrix would be as follows  \n",
        "Wall: %   \n",
        "Free space: -  \n",
        "Food  : .    \n",
        "Pacman Initial Position:P\n",
        "\n",
        "\n"
      ]
    },
    {
      "cell_type": "code",
      "metadata": {
        "id": "xM6reFPZHpD6",
        "colab_type": "code",
        "outputId": "b788ac06-1b5f-418b-b518-fb6b83eca3ff",
        "colab": {
          "base_uri": "https://localhost:8080/",
          "height": 33
        }
      },
      "source": [
        "matrix = list()\n",
        "\n",
        "def fill_matrix(string, matrix_list):\n",
        "\tfor eachrow in string:\n",
        "\t\tmatrix.append(list(eachrow))\n",
        "\tprint(len(matrix))\n",
        "\n",
        "\n",
        "matrix_string='''\n",
        "%%%%%%%%%%%%%%%%%%%%%%%%%%%%%%%%%%%%%\n",
        "%-------%-%-%-----------%---%-----%-%\n",
        "%-%%%%%%%-%-%%%-%-%%%-%%%-%%%%%%%-%-%\n",
        "%-------%-------%-%-----%-----%-%---%\n",
        "%%%%%-%%%%%-%%%-%-%-%-%%%-%%%%%-%-%%%\n",
        "%---%-%-%-%---%-%-%-%---%-%---%-%---%\n",
        "%-%%%-%-%-%-%%%-%%%%%-%%%-%-%%%-%%%-%\n",
        "%-------%-----%---%---%-----%-%-%---%\n",
        "%%%-%%%%%%%%%-%%%%%%%-%%%-%%%-%-%-%-%\n",
        "%-------------%-------%-%---%-----%-%\n",
        "%-%-%%%%%-%-%%%-%-%-%%%-%-%%%-%%%-%-%\n",
        "%-%-%-----%-%-%-%-%-----%---%-%-%-%-%\n",
        "%-%-%-%%%%%%%-%-%%%%%%%%%-%%%-%-%%%-%\n",
        "%-%-%-%-----%---%-----%-----%---%---%\n",
        "%%%-%%%-%-%%%%%-%%%%%-%%%-%%%-%%%%%-%\n",
        "%-----%-%-%-----%-%-----%-%---%-%-%-%\n",
        "%-%-%-%-%-%%%-%%%-%%%-%%%-%-%-%-%-%-%\n",
        "%-%-%-%-%-----------------%-%-%-----%\n",
        "%%%-%%%%%%%-%-%-%%%%%-%%%-%-%%%-%%%%%\n",
        "%-------%-%-%-%-----%---%-----%-%---%\n",
        "%%%%%-%-%-%%%%%%%%%-%%%%%%%%%%%-%-%%%\n",
        "%---%-%-----------%-%-----%---%-%---%\n",
        "%-%%%-%%%%%-%%%%%%%%%-%%%%%-%-%-%%%-%\n",
        "%-%---%------%--------%-----%-------%\n",
        "%-%-%-%%%%%-%%%-%-%-%-%-%%%%%%%%%%%%%\n",
        "%-%-%---%-----%-%-%-%-------%---%-%-%\n",
        "%-%-%%%-%%%-%-%-%-%%%%%%%%%-%%%-%-%-%\n",
        "%-%---%-%---%-%-%---%-%---%-%-%-----%\n",
        "%-%%%-%%%-%%%%%-%%%-%-%-%%%%%-%-%%%%%\n",
        "%-------%---%-----%-%-----%---%-%---%\n",
        "%%%-%-%%%%%-%%%%%-%%%-%%%-%-%%%-%-%%%\n",
        "%-%-%-%-%-%-%-%-----%-%---%-%---%-%-%\n",
        "%-%-%%%-%-%-%-%-%%%%%%%%%-%-%-%-%-%-%\n",
        "%---%---%---%-----------------%-----%\n",
        "%-%-%-%-%%%-%%%-%%%%%%%-%%%-%%%-%%%-%\n",
        "%.%-%-%-------%---%-------%---%-%--P%\n",
        "%%%%%%%%%%%%%%%%%%%%%%%%%%%%%%%%%%%%%\n",
        "'''\n",
        "all_matrixstring = matrix_string.split()\n",
        "fill_matrix(all_matrixstring, matrix)\n"
      ],
      "execution_count": 40,
      "outputs": [
        {
          "output_type": "stream",
          "text": [
            "37\n"
          ],
          "name": "stdout"
        }
      ]
    },
    {
      "cell_type": "markdown",
      "metadata": {
        "id": "g_40DvQUMxgQ",
        "colab_type": "text"
      },
      "source": [
        "Now, We initialize the the direction array and the priority queue  \n",
        "**Note:** Initial score is **0**"
      ]
    },
    {
      "cell_type": "code",
      "metadata": {
        "id": "kniAIgK6H9aR",
        "colab_type": "code",
        "colab": {}
      },
      "source": [
        "\n",
        "priority_queue = list()\n",
        "all_possibilities = None\n",
        "directions = [[-1, 0], [0, -1], [0, 1], [1, 0]] \n",
        "\n",
        "priority_queue.append([x_coordinates, y_coordinates, [], 0])  #initial state \n",
        "length = len(priority_queue)\n"
      ],
      "execution_count": 0,
      "outputs": []
    },
    {
      "cell_type": "markdown",
      "metadata": {
        "id": "EJ26esojNdrG",
        "colab_type": "text"
      },
      "source": [
        "Now that everything is initialized, we run our  \n",
        "**A star algorithm**  \n"
      ]
    },
    {
      "cell_type": "code",
      "metadata": {
        "id": "SVPZNQibNdDw",
        "colab_type": "code",
        "colab": {}
      },
      "source": [
        "while length>=1: # run till all nodes are explored\n",
        "        x, y, r, score = priority_queue.pop(0) # expand node with the highest priority\n",
        "        possibilities = r[:]\n",
        "        possibilities.append([x, y])\n",
        "\n",
        "        if x == food_x and y == food_y and all_possibilities == None:   # if food is found, then you break out  i.e Final state is found\n",
        "                all_possibilities = possibilities  # answer route is the the final route our algorithm takes\n",
        "                break\n",
        "\n",
        "        possible_moves = []\n",
        "        for val_direct in directions:   #explore all possible directions\n",
        "            hop_x_coordinate = x + val_direct[0]\n",
        "            hop_y_coordinate = y + val_direct[1]\n",
        "            if hop_x_coordinate < 0 or hop_x_coordinate >= n or hop_y_coordinate < 0 and hop_y_coordinate >= n: # If the obtained move is invalid, then just continue to the next iteration\n",
        "                continue #You are out of bound\n",
        "\n",
        "            #check = matrix[hop_x_coordinate][hop_y_coordinate]\n",
        "\n",
        "            if matrix[hop_x_coordinate][hop_y_coordinate] == \"-\" or matrix[hop_x_coordinate][hop_y_coordinate] == \".\": # If there is no wall (%), then carry on\n",
        "                matrix[hop_x_coordinate][hop_y_coordinate] = '='\n",
        "                possible_moves.append([hop_x_coordinate, hop_y_coordinate, score + abs(food_x - hop_x_coordinate) + abs(food_y - hop_y_coordinate)])\n",
        "                #heuristic manhattan distance added to previous score\n",
        "                \n",
        "        possible_moves.sort(key = lambda val: val[2]) #We sort all the possible moves and build a priority queue\n",
        "        for move in possible_moves:\n",
        "            priority_queue.append([move[0], move[1], possibilities, score])  # append all possible moves in the correct order so that it can be expanded further on\n",
        "        length = len(priority_queue)"
      ],
      "execution_count": 0,
      "outputs": []
    },
    {
      "cell_type": "code",
      "metadata": {
        "id": "rvsj8s3tc33i",
        "colab_type": "code",
        "colab": {}
      },
      "source": [
        ""
      ],
      "execution_count": 0,
      "outputs": []
    },
    {
      "cell_type": "markdown",
      "metadata": {
        "id": "Vc_eTEzMMwd6",
        "colab_type": "text"
      },
      "source": [
        "NOW, We measure the length of route taken by our own PACMAN  We observe it to take 210 steps to reach the goal"
      ]
    },
    {
      "cell_type": "code",
      "metadata": {
        "id": "k_PuVXurOu9W",
        "colab_type": "code",
        "outputId": "e3a84d36-8e75-4f0f-acf2-b525f6fce133",
        "colab": {
          "base_uri": "https://localhost:8080/",
          "height": 1000
        }
      },
      "source": [
        "print(str(len(all_possibilities) - 1))\n",
        "for val in all_possibilities:  \n",
        "    print(str(val[0]) + \" \" + str(val[1]))"
      ],
      "execution_count": 43,
      "outputs": [
        {
          "output_type": "stream",
          "text": [
            "210\n",
            "35 35\n",
            "34 35\n",
            "33 35\n",
            "33 34\n",
            "33 33\n",
            "33 32\n",
            "33 31\n",
            "32 31\n",
            "31 31\n",
            "31 30\n",
            "31 29\n",
            "32 29\n",
            "33 29\n",
            "33 28\n",
            "33 27\n",
            "33 26\n",
            "33 25\n",
            "33 24\n",
            "33 23\n",
            "33 22\n",
            "33 21\n",
            "33 20\n",
            "33 19\n",
            "33 18\n",
            "33 17\n",
            "33 16\n",
            "33 15\n",
            "32 15\n",
            "31 15\n",
            "31 16\n",
            "31 17\n",
            "30 17\n",
            "29 17\n",
            "29 16\n",
            "29 15\n",
            "28 15\n",
            "27 15\n",
            "26 15\n",
            "25 15\n",
            "24 15\n",
            "23 15\n",
            "23 16\n",
            "23 17\n",
            "23 18\n",
            "23 19\n",
            "23 20\n",
            "23 21\n",
            "24 21\n",
            "25 21\n",
            "25 22\n",
            "25 23\n",
            "24 23\n",
            "23 23\n",
            "23 24\n",
            "23 25\n",
            "23 26\n",
            "23 27\n",
            "22 27\n",
            "21 27\n",
            "21 28\n",
            "21 29\n",
            "22 29\n",
            "23 29\n",
            "23 30\n",
            "23 31\n",
            "22 31\n",
            "21 31\n",
            "20 31\n",
            "19 31\n",
            "18 31\n",
            "17 31\n",
            "17 32\n",
            "17 33\n",
            "17 34\n",
            "17 35\n",
            "16 35\n",
            "15 35\n",
            "14 35\n",
            "13 35\n",
            "12 35\n",
            "11 35\n",
            "10 35\n",
            "9 35\n",
            "8 35\n",
            "7 35\n",
            "7 34\n",
            "7 33\n",
            "8 33\n",
            "9 33\n",
            "9 32\n",
            "9 31\n",
            "9 30\n",
            "9 29\n",
            "10 29\n",
            "11 29\n",
            "12 29\n",
            "13 29\n",
            "14 29\n",
            "15 29\n",
            "15 28\n",
            "15 27\n",
            "16 27\n",
            "17 27\n",
            "18 27\n",
            "19 27\n",
            "19 26\n",
            "19 25\n",
            "18 25\n",
            "17 25\n",
            "17 24\n",
            "17 23\n",
            "17 22\n",
            "17 21\n",
            "17 20\n",
            "17 19\n",
            "17 18\n",
            "17 17\n",
            "17 16\n",
            "17 15\n",
            "17 14\n",
            "17 13\n",
            "16 13\n",
            "15 13\n",
            "15 14\n",
            "15 15\n",
            "14 15\n",
            "13 15\n",
            "12 15\n",
            "11 15\n",
            "10 15\n",
            "9 15\n",
            "9 16\n",
            "9 17\n",
            "9 18\n",
            "9 19\n",
            "9 20\n",
            "9 21\n",
            "8 21\n",
            "7 21\n",
            "6 21\n",
            "5 21\n",
            "4 21\n",
            "3 21\n",
            "2 21\n",
            "1 21\n",
            "1 20\n",
            "1 19\n",
            "1 18\n",
            "1 17\n",
            "1 16\n",
            "1 15\n",
            "2 15\n",
            "3 15\n",
            "3 14\n",
            "3 13\n",
            "3 12\n",
            "3 11\n",
            "4 11\n",
            "5 11\n",
            "6 11\n",
            "7 11\n",
            "7 12\n",
            "7 13\n",
            "8 13\n",
            "9 13\n",
            "9 12\n",
            "9 11\n",
            "9 10\n",
            "9 9\n",
            "9 8\n",
            "9 7\n",
            "9 6\n",
            "9 5\n",
            "9 4\n",
            "9 3\n",
            "10 3\n",
            "11 3\n",
            "12 3\n",
            "13 3\n",
            "14 3\n",
            "15 3\n",
            "16 3\n",
            "17 3\n",
            "18 3\n",
            "19 3\n",
            "19 4\n",
            "19 5\n",
            "20 5\n",
            "21 5\n",
            "22 5\n",
            "23 5\n",
            "23 4\n",
            "23 3\n",
            "24 3\n",
            "25 3\n",
            "26 3\n",
            "27 3\n",
            "27 4\n",
            "27 5\n",
            "28 5\n",
            "29 5\n",
            "29 4\n",
            "29 3\n",
            "30 3\n",
            "31 3\n",
            "32 3\n",
            "33 3\n",
            "33 2\n",
            "33 1\n",
            "34 1\n",
            "35 1\n"
          ],
          "name": "stdout"
        }
      ]
    },
    {
      "cell_type": "code",
      "metadata": {
        "id": "x6fgO2drPwMA",
        "colab_type": "code",
        "colab": {}
      },
      "source": [
        ""
      ],
      "execution_count": 0,
      "outputs": []
    }
  ]
}